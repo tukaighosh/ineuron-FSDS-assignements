{
 "cells": [
  {
   "cell_type": "raw",
   "id": "87b65b6b",
   "metadata": {},
   "source": [
    "1.What are the two values of the Boolean data type? How do you write them?\n",
    "\n",
    "    Two values of the Boolean data type are True and False.\n",
    "\n",
    "    We write them as True and False. Along with this, if we take bool('') or bool(0) or bool(0.0) so on.. \n",
    "    It'll be converted to False. Otherwise for non-zero and non blank string bool() will cast to True."
   ]
  },
  {
   "cell_type": "raw",
   "id": "246b631e",
   "metadata": {},
   "source": [
    "2. What are the three different types of Boolean operators?\n",
    "\n",
    "    They are : and , or , not"
   ]
  },
  {
   "cell_type": "raw",
   "id": "3b0f4da0",
   "metadata": {},
   "source": [
    "3. Make a list of each Boolean operator's truth tables (i.e. every possible combination of Boolean values for the operator and what it evaluate )\n",
    "\n",
    "    ----------OR-----------\n",
    "    input1   input2   result\n",
    "    -------------------------\n",
    "    False     False    False\n",
    "    False     True     True\n",
    "    True      False    True\n",
    "    True      True     True\n",
    "    \n",
    "    ----------AND----------\n",
    "    input1   input2   result\n",
    "    -------------------------\n",
    "    False     False    False\n",
    "    False     True     False\n",
    "    True      False    False\n",
    "    True      True     True\n",
    "    \n",
    "    ----NOT-----\n",
    "    input   result\n",
    "    ---------------\n",
    "    True     False\n",
    "    False    True"
   ]
  },
  {
   "cell_type": "raw",
   "id": "68cd4766",
   "metadata": {},
   "source": [
    "4. What are the values of the following expressions?\n",
    "\n",
    "    (5 > 4) and (3 == 5)  =>  False\n",
    "    not (5 > 4)           =>  False\n",
    "    (5 > 4) or (3 == 5)   =>  True\n",
    "    not ((5 > 4) or (3 == 5)) =>  False\n",
    "    (True and True) and (True == False) => False\n",
    "    (not False) or (not True) => True"
   ]
  },
  {
   "cell_type": "raw",
   "id": "fb477960",
   "metadata": {},
   "source": [
    "5. What are the six comparison operators?\n",
    "\n",
    "    Six comparison operators are : \n",
    "    1) >\n",
    "    2) <\n",
    "    3) >=\n",
    "    4) <=\n",
    "    5) ==\n",
    "    6) !="
   ]
  },
  {
   "cell_type": "raw",
   "id": "b777ceac",
   "metadata": {},
   "source": [
    "6. How do you tell the difference between the equal to and assignment operators?Describe a condition and when you would use one.\n",
    "\n",
    "    Equal(==) is a comparison operator to check the equality of two variables or values and returns Boolean. Whereas,\n",
    "    Assignment(=) operator is used to assign some value to a variable and doesn't return anything."
   ]
  },
  {
   "cell_type": "raw",
   "id": "8ca27181",
   "metadata": {},
   "source": [
    "7. Identify the three blocks in this code:\n",
    "spam = 0\n",
    "if spam == 10:\n",
    "print('eggs')\n",
    "if spam > 5:\n",
    "print('bacon')\n",
    "else:\n",
    "print('ham')\n",
    "print('spam')\n",
    "print('spam')\n",
    "\n",
    "\n",
    "block 1:\n",
    "         if spam > 5:\n",
    "            print('bacon')\n",
    " \n",
    "block 2:\n",
    "        if spam == 10:\n",
    "            print('eggs')\n",
    "            if spam > 5:\n",
    "                print('bacon')\n",
    "                \n",
    "block 3:\n",
    "        else:\n",
    "            print('ham')\n",
    "            print('spam')\n",
    "            print('spam')"
   ]
  },
  {
   "cell_type": "code",
   "execution_count": 22,
   "id": "98b41abb",
   "metadata": {},
   "outputs": [
    {
     "name": "stdout",
     "output_type": "stream",
     "text": [
      "Enter your number: 1\n",
      "Hello\n"
     ]
    }
   ],
   "source": [
    "\"\"\"8. Write code that prints Hello if 1 is stored in spam, \n",
    "prints Howdy if 2 is stored in spam, and prints Greetings! if anything else is stored in spam. \"\"\"\n",
    "\n",
    "def print_spam_logic():\n",
    "    spam = int(input(\"Enter your number: \"))\n",
    "    if spam == 1:\n",
    "        print(\"Hello\")\n",
    "    elif spam == 2:\n",
    "        print(\"Howdy\")\n",
    "    else:\n",
    "        print(\"Greetings!\")\n",
    "        \n",
    "print_spam_logic()"
   ]
  },
  {
   "cell_type": "raw",
   "id": "f6a93887",
   "metadata": {},
   "source": [
    "9. If your programme is stuck in an endless loop, what keys you’ll press?\n",
    "\n",
    "    we can press key : i twice or click interrupt kernel button in toolbox"
   ]
  },
  {
   "cell_type": "raw",
   "id": "21683adc",
   "metadata": {},
   "source": [
    "10. How can you tell the difference between break and continue?\n",
    "\n",
    "    Both break and continue are used in loops to control the flow.\n",
    "    break: It's used to come out of the loop immidiately and execute next code after the loop.\n",
    "    continue: It's used to end current iteration and start next iteration of the loop."
   ]
  },
  {
   "cell_type": "raw",
   "id": "e386d69f",
   "metadata": {},
   "source": [
    "11. In a for loop, what is the difference between range(10), range(0, 10), and range(0, 10, 1)?\n",
    "\n",
    "    All of the above range function will return list as [0, 1, 2, 3, 4, 5, 6, 7, 8, 9].\n",
    "    When used inside for loop, all the scenarios will run for 10 iteration from 0 to 9 value."
   ]
  },
  {
   "cell_type": "code",
   "execution_count": 36,
   "id": "51a23973",
   "metadata": {},
   "outputs": [
    {
     "name": "stdout",
     "output_type": "stream",
     "text": [
      "Print 1 to 10 using For loop\n",
      "1  2  3  4  5  6  7  8  9  10  \n",
      "\n",
      "Print 1 to 10 using While loop\n",
      "1  2  3  4  5  6  7  8  9  10  "
     ]
    }
   ],
   "source": [
    "\"\"\"12. Write a short program that prints the numbers 1 to 10 using a for loop. \n",
    "Then write an equivalent program that prints the numbers 1 to 10 using a while loop.\"\"\"\n",
    "\n",
    "def print_numbers_1_to_10():\n",
    "    print(\"Print 1 to 10 using For loop\")\n",
    "    for value in range(1, 11):\n",
    "        print(value, end = \"  \")\n",
    "    print(\"\\n\\nPrint 1 to 10 using While loop\")\n",
    "    value = 1\n",
    "    while(value < 11):\n",
    "        print(value, end = \"  \")\n",
    "        value += 1\n",
    "\n",
    "print_numbers_1_to_10()"
   ]
  },
  {
   "cell_type": "raw",
   "id": "039e3619",
   "metadata": {},
   "source": [
    "13. If you had a function named bacon() inside a module named spam, how would you call it after importing spam?\n",
    "\n",
    "import spam\n",
    "spam.bacon()"
   ]
  }
 ],
 "metadata": {
  "kernelspec": {
   "display_name": "Python 3 (ipykernel)",
   "language": "python",
   "name": "python3"
  },
  "language_info": {
   "codemirror_mode": {
    "name": "ipython",
    "version": 3
   },
   "file_extension": ".py",
   "mimetype": "text/x-python",
   "name": "python",
   "nbconvert_exporter": "python",
   "pygments_lexer": "ipython3",
   "version": "3.9.7"
  }
 },
 "nbformat": 4,
 "nbformat_minor": 5
}
