{
 "cells": [
  {
   "cell_type": "raw",
   "id": "967bcd9b",
   "metadata": {},
   "source": [
    "1. In the below elements which of them are values or an expression? eg:- values can be integer or string and expressions will be mathematical operators.\n",
    "* \n",
    "'hello'\n",
    "-87.8\n",
    "- \n",
    "/ \n",
    "+\t\n",
    "6 \n",
    "\n",
    "\n",
    "\n",
    "Answer)\n",
    "values : 'hello' , -87.8,  6\n",
    "\n",
    "expression(mathematical operators) : *, - , + , /"
   ]
  },
  {
   "cell_type": "raw",
   "id": "5a8b4e76",
   "metadata": {},
   "source": [
    "2. What is the difference between string and variable?\n",
    "\n",
    "Answer)\n",
    "string is a data type in python.\n",
    "variable is the holder of any data type values in python."
   ]
  },
  {
   "cell_type": "raw",
   "id": "f6fd8444",
   "metadata": {},
   "source": [
    "3. Describe three different data types.\n",
    "\n",
    "Answer)\n",
    "int => data type int holds whole numbers whether positive or negative and zero.(example : 6)\n",
    "float => data type float holds all the real numbers.(example: 6.5)\n",
    "complex => data type complex holds complex numbers consisting two parts, namely - real and imaginary.(example : 6 + 6.5j)"
   ]
  },
  {
   "cell_type": "raw",
   "id": "9dd85f14",
   "metadata": {},
   "source": [
    "4. What is an expression made up of? What do all expressions do?\n",
    "\n",
    "Answer)\n",
    "An expression is made up of values, functions, operators resulting a new value.\n",
    "\n",
    "Expression yields some value when executed and it is one of the building block of the program."
   ]
  },
  {
   "cell_type": "raw",
   "id": "a7ee0033",
   "metadata": {},
   "source": [
    "5. This assignment statements, like spam = 10. What is the difference between an expression and a statement?\n",
    "\n",
    "Answer)\n",
    "An expression is made up of values, functions, operators resulting a new value. \n",
    "Whereas, statement is a line of code which doesn't return anything."
   ]
  },
  {
   "cell_type": "raw",
   "id": "18ee1ef8",
   "metadata": {},
   "source": [
    "6. After running the following code, what does the variable bacon contain?\n",
    "bacon = 22\n",
    "bacon + 1\n",
    "\n",
    "Answer) \n",
    "It should contain old value 22, as the result of addition operation isn't reassigned to varibale 'bacon'."
   ]
  },
  {
   "cell_type": "raw",
   "id": "7936d58e",
   "metadata": {},
   "source": [
    "7. What should the values of the following two terms be?\n",
    "'spam' + 'spamspam'\n",
    "'spam' * 3\n",
    "\n",
    "Answer)\n",
    "both will be 'spamspamspam'"
   ]
  },
  {
   "cell_type": "raw",
   "id": "153a86c2",
   "metadata": {},
   "source": [
    "8. Why is eggs a valid variable name while 100 is invalid?\n",
    "\n",
    "Answer)\n",
    "In python, variable name can't start with digit."
   ]
  },
  {
   "cell_type": "raw",
   "id": "d98dd0bd",
   "metadata": {},
   "source": [
    "9. What three functions can be used to get the integer, floating-point number, or string version of a value?\n",
    "\n",
    "Answer)\n",
    "convert to integer -> int()\n",
    "convert to floating-point number -> float()\n",
    "convert to string -> str()"
   ]
  },
  {
   "cell_type": "raw",
   "id": "55712b66",
   "metadata": {},
   "source": [
    "10. Why does this expression cause an error? How can you fix it?\n",
    "'I have eaten ' + 99 + ' burritos.'\n",
    "\n",
    "Answer)\n",
    "This expression cause error because string can't be concatenated with non-strings.\n",
    "\n",
    "valid expression would be as follows:\n",
    "'I have eaten ' + str(99) + ' burritos.'"
   ]
  }
 ],
 "metadata": {
  "kernelspec": {
   "display_name": "Python 3 (ipykernel)",
   "language": "python",
   "name": "python3"
  },
  "language_info": {
   "codemirror_mode": {
    "name": "ipython",
    "version": 3
   },
   "file_extension": ".py",
   "mimetype": "text/x-python",
   "name": "python",
   "nbconvert_exporter": "python",
   "pygments_lexer": "ipython3",
   "version": "3.9.7"
  }
 },
 "nbformat": 4,
 "nbformat_minor": 5
}
